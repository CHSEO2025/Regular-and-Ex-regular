{
 "cells": [
  {
   "cell_type": "code",
   "execution_count": 1,
   "id": "8cfd4f19-cade-4315-9311-5db5506690ce",
   "metadata": {},
   "outputs": [],
   "source": [
    "import pandas as pd\n",
    "import numpy as np"
   ]
  },
  {
   "cell_type": "code",
   "execution_count": 3,
   "id": "72e9208b-e5da-4fd1-b0a5-a6e7167f6257",
   "metadata": {},
   "outputs": [],
   "source": [
    "#pip install polars"
   ]
  },
  {
   "cell_type": "code",
   "execution_count": 5,
   "id": "fd5a8b5c-d447-4eee-9dbf-d4df1bb7ea08",
   "metadata": {},
   "outputs": [],
   "source": [
    "import polars as pl"
   ]
  },
  {
   "cell_type": "code",
   "execution_count": 7,
   "id": "74970c0d-fc34-474a-a432-a0d74e455ac6",
   "metadata": {},
   "outputs": [],
   "source": [
    "#df=pl.read_csv(\"27032025_COMMERCE_PRACTICAL3.csv\")"
   ]
  },
  {
   "cell_type": "code",
   "execution_count": 9,
   "id": "0ca91353-98f3-4790-991d-05f1d6f2c9c9",
   "metadata": {},
   "outputs": [],
   "source": [
    "df=pd.read_excel(\"Final commerece pRACTICAL.xlsx\")"
   ]
  },
  {
   "cell_type": "code",
   "execution_count": 11,
   "id": "90ccd40f-b1b7-481b-b331-7cb052ee4be1",
   "metadata": {},
   "outputs": [
    {
     "data": {
      "text/html": [
       "<div>\n",
       "<style scoped>\n",
       "    .dataframe tbody tr th:only-of-type {\n",
       "        vertical-align: middle;\n",
       "    }\n",
       "\n",
       "    .dataframe tbody tr th {\n",
       "        vertical-align: top;\n",
       "    }\n",
       "\n",
       "    .dataframe thead th {\n",
       "        text-align: right;\n",
       "    }\n",
       "</style>\n",
       "<table border=\"1\" class=\"dataframe\">\n",
       "  <thead>\n",
       "    <tr style=\"text-align: right;\">\n",
       "      <th></th>\n",
       "      <th>RollNo</th>\n",
       "      <th>SUB</th>\n",
       "      <th>MRKS</th>\n",
       "      <th>AWM</th>\n",
       "      <th>REGN_NO</th>\n",
       "    </tr>\n",
       "  </thead>\n",
       "  <tbody>\n",
       "    <tr>\n",
       "      <th>0</th>\n",
       "      <td>531EA004</td>\n",
       "      <td>ACT</td>\n",
       "      <td>0.0</td>\n",
       "      <td>NaN</td>\n",
       "      <td>EA31C21082</td>\n",
       "    </tr>\n",
       "    <tr>\n",
       "      <th>1</th>\n",
       "      <td>507MC007</td>\n",
       "      <td>ACT</td>\n",
       "      <td>0.0</td>\n",
       "      <td>NaN</td>\n",
       "      <td>MC07C22017</td>\n",
       "    </tr>\n",
       "    <tr>\n",
       "      <th>2</th>\n",
       "      <td>515ND001</td>\n",
       "      <td>ACT</td>\n",
       "      <td>0.0</td>\n",
       "      <td>NaN</td>\n",
       "      <td>ND15C22059</td>\n",
       "    </tr>\n",
       "    <tr>\n",
       "      <th>3</th>\n",
       "      <td>515ND002</td>\n",
       "      <td>ACT</td>\n",
       "      <td>0.0</td>\n",
       "      <td>NaN</td>\n",
       "      <td>ND15C22066</td>\n",
       "    </tr>\n",
       "  </tbody>\n",
       "</table>\n",
       "</div>"
      ],
      "text/plain": [
       "     RollNo  SUB  MRKS  AWM     REGN_NO\n",
       "0  531EA004  ACT   0.0  NaN  EA31C21082\n",
       "1  507MC007  ACT   0.0  NaN  MC07C22017\n",
       "2  515ND001  ACT   0.0  NaN  ND15C22059\n",
       "3  515ND002  ACT   0.0  NaN  ND15C22066"
      ]
     },
     "execution_count": 11,
     "metadata": {},
     "output_type": "execute_result"
    }
   ],
   "source": [
    "df.head(4)"
   ]
  },
  {
   "cell_type": "code",
   "execution_count": 13,
   "id": "dc40057c-b4e8-4305-8c2e-135aa096eebd",
   "metadata": {},
   "outputs": [],
   "source": [
    "# Create a new column \"Course_Type\" based on the 6th and 7th characters of \"REGN_NO\"\n",
    "df['Course_Type'] = df['REGN_NO'].apply(lambda x: 'Regular' if x[5] == '2' and x[6] == '3' else 'Ex_Regular')\n",
    "\n",
    "# Print the updated DataFrame\n",
    "##print(df[['REGN_NO', 'Course_Type']])  # Display only relevant columns\n"
   ]
  },
  {
   "cell_type": "code",
   "execution_count": 17,
   "id": "40c77537-b175-4361-a45d-be16ab7838bb",
   "metadata": {},
   "outputs": [
    {
     "data": {
      "text/plain": [
       "Course_Type\n",
       "Ex_Regular    6992\n",
       "Regular       2384\n",
       "Name: count, dtype: int64"
      ]
     },
     "execution_count": 17,
     "metadata": {},
     "output_type": "execute_result"
    }
   ],
   "source": [
    "df['Course_Type'].value_counts()"
   ]
  },
  {
   "cell_type": "code",
   "execution_count": 21,
   "id": "60257755-50d1-4036-b07b-45cf3073c66e",
   "metadata": {},
   "outputs": [
    {
     "name": "stdout",
     "output_type": "stream",
     "text": [
      "Regular DataFrame:\n",
      "       RollNo SUB  MRKS  AWM     REGN_NO Course_Type\n",
      "732  217BA019  IT  14.0  NaN  BA17C23038     Regular\n",
      "733  217BA032  IT  14.0  NaN  BA17C23064     Regular\n",
      "734  217BA033  IT  14.0  NaN  BA17C23065     Regular\n",
      "735  217BA035  IT  14.0  NaN  BA17C23067     Regular\n",
      "736  217BA039  IT  14.0  NaN  BA17C23073     Regular\n",
      "\n",
      "Ex_Regular DataFrame:\n",
      "     RollNo  SUB  MRKS  AWM     REGN_NO Course_Type\n",
      "0  531EA004  ACT   0.0  NaN  EA31C21082  Ex_Regular\n",
      "1  507MC007  ACT   0.0  NaN  MC07C22017  Ex_Regular\n",
      "2  515ND001  ACT   0.0  NaN  ND15C22059  Ex_Regular\n",
      "3  515ND002  ACT   0.0  NaN  ND15C22066  Ex_Regular\n",
      "4  515ND004  ACT   0.0  NaN  ND15C22091  Ex_Regular\n"
     ]
    }
   ],
   "source": [
    "# Create DataFrame with only \"Regular\" cases\n",
    "df_regular = df[df[\"Course_Type\"] == \"Regular\"]\n",
    "\n",
    "# Create DataFrame with only \"Ex_Regular\" cases\n",
    "df_ex_regular = df[df[\"Course_Type\"] == \"Ex_Regular\"]\n",
    "\n",
    "# Print to verify\n",
    "print(\"Regular DataFrame:\")\n",
    "print(df_regular.head())\n",
    "\n",
    "print(\"\\nEx_Regular DataFrame:\")\n",
    "print(df_ex_regular.head())\n"
   ]
  },
  {
   "cell_type": "code",
   "execution_count": 23,
   "id": "d027a025-bbd9-41ca-b4c5-2970a9a65e2f",
   "metadata": {},
   "outputs": [],
   "source": [
    "# Use raw string (r\"...\") to avoid special character issues\n",
    "df_regular.to_excel(r\"C:\\Users\\Rammohan\\Desktop\\RAMMOHAN\\commerce_regular.xlsx\", index=False)\n",
    "df_ex_regular.to_excel(r\"C:\\Users\\Rammohan\\Desktop\\RAMMOHAN\\commerce_ex_regular.xlsx\", index=False)"
   ]
  },
  {
   "cell_type": "code",
   "execution_count": 25,
   "id": "36f9e1b8-076d-4d0b-9b79-9888eaa0e19f",
   "metadata": {},
   "outputs": [],
   "source": [
    "df_regular.to_csv(r\"C:\\Users\\Rammohan\\Desktop\\RAMMOHAN\\commerce_regular.csv\", index=False)\n",
    "df_ex_regular.to_csv(r\"C:\\Users\\Rammohan\\Desktop\\RAMMOHAN\\commerce_ex_regular.csv\", index=False)"
   ]
  },
  {
   "cell_type": "code",
   "execution_count": 27,
   "id": "8ea49056-16c9-44ef-bd72-4ad37f93a5f8",
   "metadata": {},
   "outputs": [],
   "source": [
    "# Save the DataFrame to an Excel file\n",
    "##df.to_excel('Desktop\\Commerece_reg_ex-reg.xlsx', index=False, engine='openpyxl')\n",
    "\n",
    "##print(\"Excel file created successfully!\")"
   ]
  },
  {
   "cell_type": "code",
   "execution_count": null,
   "id": "4fbd4351-68ad-4f51-b7e6-4684ef5b48f0",
   "metadata": {},
   "outputs": [],
   "source": []
  }
 ],
 "metadata": {
  "kernelspec": {
   "display_name": "Python [conda env:base] *",
   "language": "python",
   "name": "conda-base-py"
  },
  "language_info": {
   "codemirror_mode": {
    "name": "ipython",
    "version": 3
   },
   "file_extension": ".py",
   "mimetype": "text/x-python",
   "name": "python",
   "nbconvert_exporter": "python",
   "pygments_lexer": "ipython3",
   "version": "3.12.7"
  }
 },
 "nbformat": 4,
 "nbformat_minor": 5
}
